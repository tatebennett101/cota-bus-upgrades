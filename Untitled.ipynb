{
 "cells": [
  {
   "cell_type": "code",
   "execution_count": 5,
   "id": "a230a93d-cb05-4477-8e31-f6e1d88b9d65",
   "metadata": {},
   "outputs": [
    {
     "name": "stdout",
     "output_type": "stream",
     "text": [
      "Collecting geopandas\n",
      "  Downloading geopandas-1.0.1-py3-none-any.whl.metadata (2.2 kB)\n",
      "Requirement already satisfied: numpy>=1.22 in c:\\users\\tatee\\anaconda3\\lib\\site-packages (from geopandas) (1.26.4)\n",
      "Collecting pyogrio>=0.7.2 (from geopandas)\n",
      "  Downloading pyogrio-0.10.0-cp312-cp312-win_amd64.whl.metadata (5.6 kB)\n",
      "Requirement already satisfied: packaging in c:\\users\\tatee\\anaconda3\\lib\\site-packages (from geopandas) (23.2)\n",
      "Requirement already satisfied: pandas>=1.4.0 in c:\\users\\tatee\\anaconda3\\lib\\site-packages (from geopandas) (2.2.2)\n",
      "Collecting pyproj>=3.3.0 (from geopandas)\n",
      "  Downloading pyproj-3.7.0-cp312-cp312-win_amd64.whl.metadata (31 kB)\n",
      "Collecting shapely>=2.0.0 (from geopandas)\n",
      "  Downloading shapely-2.0.6-cp312-cp312-win_amd64.whl.metadata (7.2 kB)\n",
      "Requirement already satisfied: python-dateutil>=2.8.2 in c:\\users\\tatee\\anaconda3\\lib\\site-packages (from pandas>=1.4.0->geopandas) (2.9.0.post0)\n",
      "Requirement already satisfied: pytz>=2020.1 in c:\\users\\tatee\\anaconda3\\lib\\site-packages (from pandas>=1.4.0->geopandas) (2024.1)\n",
      "Requirement already satisfied: tzdata>=2022.7 in c:\\users\\tatee\\anaconda3\\lib\\site-packages (from pandas>=1.4.0->geopandas) (2023.3)\n",
      "Requirement already satisfied: certifi in c:\\users\\tatee\\anaconda3\\lib\\site-packages (from pyogrio>=0.7.2->geopandas) (2024.7.4)\n",
      "Requirement already satisfied: six>=1.5 in c:\\users\\tatee\\anaconda3\\lib\\site-packages (from python-dateutil>=2.8.2->pandas>=1.4.0->geopandas) (1.16.0)\n",
      "Downloading geopandas-1.0.1-py3-none-any.whl (323 kB)\n",
      "   ---------------------------------------- 0.0/323.6 kB ? eta -:--:--\n",
      "   ---- ---------------------------------- 41.0/323.6 kB 991.0 kB/s eta 0:00:01\n",
      "   ----------------------------- ---------- 235.5/323.6 kB 2.9 MB/s eta 0:00:01\n",
      "   ---------------------------------------- 323.6/323.6 kB 3.4 MB/s eta 0:00:00\n",
      "Downloading pyogrio-0.10.0-cp312-cp312-win_amd64.whl (16.2 MB)\n",
      "   ---------------------------------------- 0.0/16.2 MB ? eta -:--:--\n",
      "    --------------------------------------- 0.3/16.2 MB 10.2 MB/s eta 0:00:02\n",
      "   -- ------------------------------------- 0.9/16.2 MB 11.6 MB/s eta 0:00:02\n",
      "   ---- ----------------------------------- 1.7/16.2 MB 12.0 MB/s eta 0:00:02\n",
      "   ------ --------------------------------- 2.8/16.2 MB 16.1 MB/s eta 0:00:01\n",
      "   ---------- ----------------------------- 4.1/16.2 MB 17.2 MB/s eta 0:00:01\n",
      "   ------------- -------------------------- 5.4/16.2 MB 19.2 MB/s eta 0:00:01\n",
      "   ----------------- ---------------------- 6.9/16.2 MB 22.1 MB/s eta 0:00:01\n",
      "   ------------------- -------------------- 7.8/16.2 MB 21.7 MB/s eta 0:00:01\n",
      "   ---------------------- ----------------- 9.2/16.2 MB 21.7 MB/s eta 0:00:01\n",
      "   -------------------------- ------------- 10.7/16.2 MB 24.2 MB/s eta 0:00:01\n",
      "   -------------------------------- ------- 13.0/16.2 MB 29.7 MB/s eta 0:00:01\n",
      "   -------------------------------------- - 15.5/16.2 MB 34.4 MB/s eta 0:00:01\n",
      "   ---------------------------------------  16.2/16.2 MB 36.4 MB/s eta 0:00:01\n",
      "   ---------------------------------------- 16.2/16.2 MB 31.2 MB/s eta 0:00:00\n",
      "Downloading pyproj-3.7.0-cp312-cp312-win_amd64.whl (6.2 MB)\n",
      "   ---------------------------------------- 0.0/6.2 MB ? eta -:--:--\n",
      "   ---------------------- ----------------- 3.5/6.2 MB 73.4 MB/s eta 0:00:01\n",
      "   -------------------------------------- - 6.0/6.2 MB 64.5 MB/s eta 0:00:01\n",
      "   ---------------------------------------- 6.2/6.2 MB 49.7 MB/s eta 0:00:00\n",
      "Downloading shapely-2.0.6-cp312-cp312-win_amd64.whl (1.4 MB)\n",
      "   ---------------------------------------- 0.0/1.4 MB ? eta -:--:--\n",
      "   ---------------------------------------- 1.4/1.4 MB 89.5 MB/s eta 0:00:00\n",
      "Installing collected packages: shapely, pyproj, pyogrio, geopandas\n",
      "Successfully installed geopandas-1.0.1 pyogrio-0.10.0 pyproj-3.7.0 shapely-2.0.6\n"
     ]
    },
    {
     "ename": "TypeError",
     "evalue": "sjoin() got an unexpected keyword argument 'op'",
     "output_type": "error",
     "traceback": [
      "\u001b[1;31m---------------------------------------------------------------------------\u001b[0m",
      "\u001b[1;31mTypeError\u001b[0m                                 Traceback (most recent call last)",
      "Cell \u001b[1;32mIn[5], line 19\u001b[0m\n\u001b[0;32m     16\u001b[0m bus_stops_gdf \u001b[38;5;241m=\u001b[39m gpd\u001b[38;5;241m.\u001b[39mGeoDataFrame(bus_stops, geometry\u001b[38;5;241m=\u001b[39mgeometry, crs\u001b[38;5;241m=\u001b[39m\u001b[38;5;124m\"\u001b[39m\u001b[38;5;124mEPSG:4326\u001b[39m\u001b[38;5;124m\"\u001b[39m)\n\u001b[0;32m     18\u001b[0m \u001b[38;5;66;03m# Perform a spatial join\u001b[39;00m\n\u001b[1;32m---> 19\u001b[0m matched_stops \u001b[38;5;241m=\u001b[39m gpd\u001b[38;5;241m.\u001b[39msjoin(bus_stops_gdf, neighborhoods, how\u001b[38;5;241m=\u001b[39m\u001b[38;5;124m\"\u001b[39m\u001b[38;5;124mleft\u001b[39m\u001b[38;5;124m\"\u001b[39m, op\u001b[38;5;241m=\u001b[39m\u001b[38;5;124m\"\u001b[39m\u001b[38;5;124mwithin\u001b[39m\u001b[38;5;124m\"\u001b[39m)\n\u001b[0;32m     21\u001b[0m \u001b[38;5;66;03m# Save the result to a new file\u001b[39;00m\n\u001b[0;32m     22\u001b[0m matched_stops\u001b[38;5;241m.\u001b[39mto_csv(\u001b[38;5;124m'\u001b[39m\u001b[38;5;124mmatched_bus_stops.csv\u001b[39m\u001b[38;5;124m'\u001b[39m, index\u001b[38;5;241m=\u001b[39m\u001b[38;5;28;01mFalse\u001b[39;00m)\n",
      "File \u001b[1;32m~\\anaconda3\\Lib\\site-packages\\geopandas\\tools\\sjoin.py:110\u001b[0m, in \u001b[0;36msjoin\u001b[1;34m(left_df, right_df, how, predicate, lsuffix, rsuffix, distance, on_attribute, **kwargs)\u001b[0m\n\u001b[0;32m    108\u001b[0m \u001b[38;5;28;01mif\u001b[39;00m kwargs:\n\u001b[0;32m    109\u001b[0m     first \u001b[38;5;241m=\u001b[39m \u001b[38;5;28mnext\u001b[39m(\u001b[38;5;28miter\u001b[39m(kwargs\u001b[38;5;241m.\u001b[39mkeys()))\n\u001b[1;32m--> 110\u001b[0m     \u001b[38;5;28;01mraise\u001b[39;00m \u001b[38;5;167;01mTypeError\u001b[39;00m(\u001b[38;5;124mf\u001b[39m\u001b[38;5;124m\"\u001b[39m\u001b[38;5;124msjoin() got an unexpected keyword argument \u001b[39m\u001b[38;5;124m'\u001b[39m\u001b[38;5;132;01m{\u001b[39;00mfirst\u001b[38;5;132;01m}\u001b[39;00m\u001b[38;5;124m'\u001b[39m\u001b[38;5;124m\"\u001b[39m)\n\u001b[0;32m    112\u001b[0m on_attribute \u001b[38;5;241m=\u001b[39m _maybe_make_list(on_attribute)\n\u001b[0;32m    114\u001b[0m _basic_checks(left_df, right_df, how, lsuffix, rsuffix, on_attribute\u001b[38;5;241m=\u001b[39mon_attribute),\n",
      "\u001b[1;31mTypeError\u001b[0m: sjoin() got an unexpected keyword argument 'op'"
     ]
    }
   ],
   "source": [
    "import pandas as pd\n",
    "!pip install geopandas\n",
    "import geopandas as gpd\n",
    "from shapely.geometry import Point\n",
    "\n",
    "# Load the fixed GeoJSON file\n",
    "neighborhoods_path = 'Columbus_Communities.geojson'\n",
    "neighborhoods = gpd.read_file(neighborhoods_path)\n",
    "\n",
    "# Load the bus stops CSV file\n",
    "bus_stops_path = 'cota_stops_new.csv'\n",
    "bus_stops = pd.read_csv(bus_stops_path)\n",
    "\n",
    "# Create geometry from Longitude and Latitude\n",
    "geometry = [Point(xy) for xy in zip(bus_stops['Longitude2'], bus_stops['Latitude2'])]\n",
    "bus_stops_gdf = gpd.GeoDataFrame(bus_stops, geometry=geometry, crs=\"EPSG:4326\")\n",
    "\n",
    "# Perform a spatial join\n",
    "matched_stops = gpd.sjoin(bus_stops_gdf, neighborhoods, how=\"left\", op=\"within\")\n",
    "\n",
    "# Save the result to a new file\n",
    "matched_stops.to_csv('matched_bus_stops.csv', index=False)\n"
   ]
  },
  {
   "cell_type": "code",
   "execution_count": null,
   "id": "e7d07c59-b9bd-402c-9fb3-07a162e2acfd",
   "metadata": {},
   "outputs": [],
   "source": []
  }
 ],
 "metadata": {
  "kernelspec": {
   "display_name": "Python 3 (ipykernel)",
   "language": "python",
   "name": "python3"
  },
  "language_info": {
   "codemirror_mode": {
    "name": "ipython",
    "version": 3
   },
   "file_extension": ".py",
   "mimetype": "text/x-python",
   "name": "python",
   "nbconvert_exporter": "python",
   "pygments_lexer": "ipython3",
   "version": "3.12.4"
  }
 },
 "nbformat": 4,
 "nbformat_minor": 5
}
